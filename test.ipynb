{
 "cells": [
  {
   "cell_type": "code",
   "execution_count": 1,
   "id": "f2021254-f32b-4b40-a0e8-11a4cb0cfdea",
   "metadata": {},
   "outputs": [],
   "source": [
    "# make sure the .so file is in the python path\n",
    "\n",
    "import sys\n",
    "sys.path.append(\"build\")"
   ]
  },
  {
   "cell_type": "code",
   "execution_count": 2,
   "id": "746c6c9e-986c-4ec7-b8ce-77ced3f39306",
   "metadata": {},
   "outputs": [
    {
     "name": "stdout",
     "output_type": "stream",
     "text": [
      "encoded\n",
      "decoded\n"
     ]
    }
   ],
   "source": [
    "from enigma import EnigmaMachine\n",
    "\n",
    "enigma = EnigmaMachine()\n",
    "\n",
    "message = \"message\"\n",
    "\n",
    "encoded = enigma.encode(message)\n",
    "print(encoded)\n",
    "decoded = enigma.decode(encoded)\n",
    "print(decoded)"
   ]
  },
  {
   "cell_type": "code",
   "execution_count": null,
   "id": "8ad13bf0-621e-4450-923a-a7b57520cdfd",
   "metadata": {},
   "outputs": [],
   "source": []
  }
 ],
 "metadata": {
  "kernelspec": {
   "display_name": "Python 3 (ipykernel)",
   "language": "python",
   "name": "python3"
  },
  "language_info": {
   "codemirror_mode": {
    "name": "ipython",
    "version": 3
   },
   "file_extension": ".py",
   "mimetype": "text/x-python",
   "name": "python",
   "nbconvert_exporter": "python",
   "pygments_lexer": "ipython3",
   "version": "3.12.7"
  }
 },
 "nbformat": 4,
 "nbformat_minor": 5
}
