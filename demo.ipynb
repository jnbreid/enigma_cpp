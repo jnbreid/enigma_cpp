{
 "cells": [
  {
   "cell_type": "markdown",
   "id": "4487889a-ddc4-4ab8-aeb1-5693db4cf93b",
   "metadata": {},
   "source": [
    "<!--\n",
    "Copyright (c) 2025 Your Name\n",
    "SPDX-License-Identifier: MIT\n",
    "-->\n",
    "\n",
    "## 1. Use the enigma machin with preset conditions"
   ]
  },
  {
   "cell_type": "code",
   "execution_count": 1,
   "id": "f2021254-f32b-4b40-a0e8-11a4cb0cfdea",
   "metadata": {},
   "outputs": [],
   "source": [
    "# make sure the .so file is in the python path\n",
    "\n",
    "import sys\n",
    "sys.path.append(\"build\")"
   ]
  },
  {
   "cell_type": "code",
   "execution_count": 2,
   "id": "746c6c9e-986c-4ec7-b8ce-77ced3f39306",
   "metadata": {},
   "outputs": [],
   "source": [
    "from enigma import EnigmaMachine\n",
    "\n",
    "enigma = EnigmaMachine()"
   ]
  },
  {
   "cell_type": "code",
   "execution_count": 3,
   "id": "8ad13bf0-621e-4450-923a-a7b57520cdfd",
   "metadata": {
    "scrolled": true
   },
   "outputs": [
    {
     "name": "stdout",
     "output_type": "stream",
     "text": [
      "Encoded message: HOCFTIB\n",
      "Decoded message: MESSAGE\n"
     ]
    }
   ],
   "source": [
    "message = \"MESSAGE\"\n",
    "\n",
    "encoded = enigma.encode(message)\n",
    "print(\"Encoded message: \" + encoded)\n",
    "decoded = enigma.decode(encoded)\n",
    "print(\"Decoded message: \" + decoded)"
   ]
  },
  {
   "cell_type": "code",
   "execution_count": 4,
   "id": "9c51d9de-ae73-4c32-8f35-dbd486c28e65",
   "metadata": {},
   "outputs": [
    {
     "name": "stdout",
     "output_type": "stream",
     "text": [
      "Encoded message: HOCFTIB\n",
      "Decoded message: MESSAGE\n"
     ]
    }
   ],
   "source": [
    "# be aware, in the standard configuration the enigma machine ignores \n",
    "# all characters that are not part of the alphabet (ABCDEFGHIJKLMNOPQRSTUVWXYZ)\n",
    "# that includes small letters\n",
    "\n",
    "message = \"MESSAGE with some other characters: #_:;,\"\n",
    "\n",
    "encoded = enigma.encode(message)\n",
    "print(\"Encoded message: \" + encoded)\n",
    "decoded = enigma.decode(encoded)\n",
    "print(\"Decoded message: \" + decoded)"
   ]
  },
  {
   "cell_type": "markdown",
   "id": "6f174714-5036-40fe-a6ef-677c96085ba1",
   "metadata": {},
   "source": [
    "### 1.1 Customize rotor positions and plugboard"
   ]
  },
  {
   "cell_type": "code",
   "execution_count": 5,
   "id": "41169556-a450-445d-bc55-e64499615eb4",
   "metadata": {},
   "outputs": [],
   "source": [
    "# set new plugboard combination\n",
    "enigma.set_plugboard(\"AZ OG PI WQ FM CE\")\n",
    "\n",
    "# set new rotor positions\n",
    "enigma.set_rotor_positions([0, 14, 22])"
   ]
  },
  {
   "cell_type": "code",
   "execution_count": 6,
   "id": "826d8b49-0512-47b5-9a6c-31c194cf9314",
   "metadata": {},
   "outputs": [
    {
     "name": "stdout",
     "output_type": "stream",
     "text": [
      "Encoded message: EJDCIKB\n",
      "Decoded message: MESSAGE\n"
     ]
    }
   ],
   "source": [
    "message = \"MESSAGE\"\n",
    "\n",
    "encoded = enigma.encode(message)\n",
    "print(\"Encoded message: \" + encoded)\n",
    "decoded = enigma.decode(encoded)\n",
    "print(\"Decoded message: \" + decoded)"
   ]
  },
  {
   "cell_type": "markdown",
   "id": "744306e6-db47-4ef3-9ed8-3c57ff36d7d9",
   "metadata": {},
   "source": [
    "### 1.2 Customize predefined rotors and reflectors"
   ]
  },
  {
   "cell_type": "code",
   "execution_count": 7,
   "id": "24814141-9486-4a0f-9cbf-662b5b1eb08c",
   "metadata": {},
   "outputs": [],
   "source": [
    "# use different predefined reflector\n",
    "# predefined reflectors are named \"B\" and \"C\"\n",
    "enigma.set_reflector(\"C\")\n",
    "\n",
    "# use different combination of predefined rotors\n",
    "# predefined rotors are \"I\", \"II\", \"III\", \"IV\", \"V\"\n",
    "# abitrary many rotors can be used\n",
    "enigma.set_rotors([\"V\", \"IV\", \"II\", \"III\"], # rotors\n",
    "                  [5,    16,   22,    3])   # rotor positions"
   ]
  },
  {
   "cell_type": "code",
   "execution_count": 8,
   "id": "56f69ce2-b0d4-46c0-9d32-d389830b6d38",
   "metadata": {},
   "outputs": [
    {
     "name": "stdout",
     "output_type": "stream",
     "text": [
      "Encoded message: OWLPIMQ\n",
      "Decoded message: MESSAGE\n"
     ]
    }
   ],
   "source": [
    "message = \"MESSAGE\"\n",
    "\n",
    "encoded = enigma.encode(message)\n",
    "print(\"Encoded message: \" + encoded)\n",
    "decoded = enigma.decode(encoded)\n",
    "print(\"Decoded message: \" + decoded)"
   ]
  },
  {
   "cell_type": "markdown",
   "id": "394e065d-56bd-43cd-8909-24a6f7ea4d28",
   "metadata": {},
   "source": [
    "## 2. Customize alphabe, rotors and reflector"
   ]
  },
  {
   "cell_type": "code",
   "execution_count": 9,
   "id": "3e0628f7-f128-4ee3-8838-ce760f4fab03",
   "metadata": {},
   "outputs": [],
   "source": [
    "# make sure the .so file is in the python path\n",
    "\n",
    "import sys\n",
    "sys.path.append(\"build\")\n",
    "\n",
    "from enigma import EnigmaMachine\n",
    "\n",
    "enigma = EnigmaMachine()"
   ]
  },
  {
   "cell_type": "markdown",
   "id": "7a9394f2-ff98-4d0c-b22b-0d2ed8acb054",
   "metadata": {},
   "source": [
    "### 2.1 create custom alphabet"
   ]
  },
  {
   "cell_type": "code",
   "execution_count": 10,
   "id": "111ac204-deaf-491b-99c0-9cca31fa98be",
   "metadata": {},
   "outputs": [
    {
     "name": "stdout",
     "output_type": "stream",
     "text": [
      "---------------------\n",
      "0123456789abcdefghijklmnopqrstuvwxyzABCDEFGHIJKLMNOPQRSTUVWXYZ!\"#$%&'()*+,-./:;<=>?@[\\]^_`{|}~ \t\n",
      "\u000b",
      "\f",
      "\n",
      "---------------------\n"
     ]
    }
   ],
   "source": [
    "import string\n",
    "\n",
    "# alphabet containing all printable ascii symbols\n",
    "# the number of elements in the alphabet must be even!\n",
    "# else the reflector does not work as no self-mapping is allowed\n",
    "alphabet = string.printable \n",
    "\n",
    "print(\"---------------------\\n\"+alphabet+\"\\n---------------------\")\n",
    "\n",
    "enigma.set_custom_alphabet(alphabet)\n",
    "\n",
    "# plugboard must be reinitialized after setting new alpahbe\n",
    "enigma.set_plugboard(\"AZ OG PI WQ FM CE\")"
   ]
  },
  {
   "cell_type": "markdown",
   "id": "bee38f1e-f91d-4a51-8c1f-9a839c563dcc",
   "metadata": {},
   "source": [
    "### 2.2 create custom reflector and plugboard"
   ]
  },
  {
   "cell_type": "code",
   "execution_count": 21,
   "id": "4092111d-7180-47b2-82ff-7d5aa907c3e3",
   "metadata": {},
   "outputs": [
    {
     "name": "stdout",
     "output_type": "stream",
     "text": [
      "Reflector permutation: \n",
      "\t~+U#,Q?sWzxB>\n",
      "c]lFEPJfHXZVu(G6'p=3M9K/Lg;4)hiRO$:25 @Y*\"oTd7.\f",
      "nC}qjyr^1-0eAk[\n"
     ]
    }
   ],
   "source": [
    "import random \n",
    "reflector_permutation = list(alphabet)\n",
    "random.shuffle(reflector_permutation)\n",
    "reflector_permutation = ''.join(reflector_permutation)#\n",
    "\n",
    "pairs = [(reflector_permutation[i], reflector_permutation[i+1]) for i in range(0, len(reflector_permutation), 2)]\n",
    "\n",
    "reflector_mapping = {}\n",
    "for a,b in pairs:\n",
    "    reflector_mapping[a] = b\n",
    "    reflector_mapping[b] = a\n",
    "\n",
    "reflector_permutation = ''.join(reflector_mapping[c] for c in alphabet)\n",
    "\n",
    "print(\"Reflector permutation: \\n\" + reflector_permutation)\n",
    "\n",
    "enigma.set_reflector(reflector_permutation)"
   ]
  },
  {
   "cell_type": "markdown",
   "id": "41e8c065-990c-445c-bff4-9f1e367af526",
   "metadata": {},
   "source": [
    "### 2.3 create custom rotors"
   ]
  },
  {
   "cell_type": "code",
   "execution_count": 28,
   "id": "e98b8efa-510f-436c-b9b7-7299ca111c9f",
   "metadata": {},
   "outputs": [
    {
     "name": "stdout",
     "output_type": "stream",
     "text": [
      "Rotor 0 \n",
      "notchposition: o \n",
      "startposition: 50 \n",
      "permutation:\n",
      "(Vv>\",<JUK3\\m%dIeTc/ &}a!#iB[r6l=p|HZzM$@Rh~nA\n",
      "f9O;P\tGkW:`sYE\f",
      "x-24FXL^.C8g5QD71S't0jy?wq \n",
      " \n",
      "\n",
      "Rotor 1 \n",
      "notchposition: ] \n",
      "startposition: 35 \n",
      "permutation:\n",
      " (T#c3!J-G&K5Y_8/1\t4nqo.g\"p)Ab}6~Cj`BwILMO9>l%Q@=eu'72RzZ|NW\n",
      "  0s[U;<i*k,]r:V+HXPdF$?atS\\x^\f",
      "mfEy{D\u000b",
      "\n",
      " \n",
      "\n",
      "Rotor 2 \n",
      "notchposition: - \n",
      "startposition: 94 \n",
      "permutation:\n",
      " J@rKm4\f",
      "IO,-(%0&dR.6]*DCcL7X=\u000b",
      "bY/>\"T#tu|\n",
      "<a)2yh_ VxQAW![Now}vB{3jgMFfE~^qlk;8U:z+ s\\Ze`951GHn\n",
      " \n",
      "\n"
     ]
    }
   ],
   "source": [
    "rotor_permutation = list(alphabet)\n",
    "\n",
    "n_rotors = 3\n",
    "\n",
    "rotors = []\n",
    "notchPositions = []\n",
    "startPositions = []\n",
    "\n",
    "for i in range(n_rotors):\n",
    "    random.shuffle(rotor_permutation)\n",
    "    rotors.append(''.join(rotor_permutation))\n",
    "    \n",
    "    notchPos = random.choice(alphabet)\n",
    "    notchPositions.append(notchPos)\n",
    "    \n",
    "    \n",
    "    startPos = random.randrange(len(alphabet))\n",
    "    startPositions.append(startPos)\n",
    "     \n",
    "    print(f\"Rotor {i} \\nnotchposition: {notchPos} \\nstartposition: {startPos} \\npermutation:\\n {rotors[i]} \\n \\n\")\n",
    "    \n",
    "enigma.set_custom_rotors(rotors, notchPositions, startPositions)"
   ]
  },
  {
   "cell_type": "code",
   "execution_count": 29,
   "id": "1fb99330-ed06-4ecb-a1f9-52db1f170b98",
   "metadata": {
    "scrolled": true
   },
   "outputs": [
    {
     "name": "stdout",
     "output_type": "stream",
     "text": [
      "Encoded message: \n",
      "Fh1!l\\ncdE!PVrL\f",
      "oSwd`!Wjjgh\"no'!4~Y(ea\toiW-^DA'l Ug#*{684_P }xU#lfg'g\n",
      "\n",
      "Decoded message: \n",
      "Enigma upgraded! Complex messages work now - even secrets like 5-3=2.\n"
     ]
    }
   ],
   "source": [
    "message = \"Enigma upgraded! Complex messages work now - even secrets like 5-3=2.\"\n",
    "\n",
    "encoded = enigma.encode(message)\n",
    "# be aware there can be random 'new lines' or blank spaces in the encoded message\n",
    "# as \\n and \\t are part of the printable ascii characters.\n",
    "print(\"Encoded message: \\n\" + encoded + \"\\n\")\n",
    "decoded = enigma.decode(encoded)\n",
    "print(\"Decoded message: \\n\" + decoded)"
   ]
  }
 ],
 "metadata": {
  "kernelspec": {
   "display_name": "Python 3 (ipykernel)",
   "language": "python",
   "name": "python3"
  },
  "language_info": {
   "codemirror_mode": {
    "name": "ipython",
    "version": 3
   },
   "file_extension": ".py",
   "mimetype": "text/x-python",
   "name": "python",
   "nbconvert_exporter": "python",
   "pygments_lexer": "ipython3",
   "version": "3.12.7"
  }
 },
 "nbformat": 4,
 "nbformat_minor": 5
}
